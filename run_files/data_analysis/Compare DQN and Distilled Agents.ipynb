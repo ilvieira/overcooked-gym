{
 "cells": [
  {
   "cell_type": "code",
   "execution_count": 1,
   "id": "bbd4d7b2",
   "metadata": {},
   "outputs": [
    {
     "name": "stdout",
     "output_type": "stream",
     "text": [
      "C:\\Users\\inesl\\Documents\\Thesis\\Code\\Overcooked\\overcooked-gym\n"
     ]
    }
   ],
   "source": [
    "%cd C:\\Users\\inesl\\Documents\\Thesis\\Code\\Overcooked\\overcooked-gym\n",
    "import pandas as pd\n",
    "import numpy as np\n",
    "from get_stats import *\n",
    "from plots import *\n",
    "from scipy.stats import mannwhitneyu, shapiro, norm"
   ]
  },
  {
   "cell_type": "code",
   "execution_count": 2,
   "id": "f86ae9a9",
   "metadata": {},
   "outputs": [],
   "source": [
    "#Effect Size r less than 0.3 -> small effect\n",
    "#Effect Size r between 0.3 and 0.5 -> medium effect\n",
    "#Effect Size r greater than 0.5 -> large effect\n",
    "\n",
    "from math import sqrt\n",
    "def mann_whitney_effect(x, y, U):\n",
    "    n1 = x.shape[-1]\n",
    "    n2 = y.shape[-1]\n",
    "    mu = n1*n2/2\n",
    "    std = sqrt(n1*n2*(n1+n2+1)/12)\n",
    "    z = (U-mu)/std\n",
    "    return abs(z/sqrt(n1+n2))"
   ]
  },
  {
   "cell_type": "markdown",
   "id": "48c46447",
   "metadata": {},
   "source": [
    "First we download the results from our experiments with each of the two algorithms:"
   ]
  },
  {
   "cell_type": "code",
   "execution_count": 3,
   "id": "8ae42d0f",
   "metadata": {},
   "outputs": [],
   "source": [
    "dqn_results_by_teammate = [[],[],[],[],[]]\n",
    "\n",
    "for r in range(1,11):\n",
    "    dqn_results = get_dqn_test_results(r)\n",
    "    for i in range(5):\n",
    "        dqn_results_by_teammate[i].append(dqn_results.loc[dqn_results['teammate_id'] == i].loc[:, 'reward_ep0':].values)\n",
    "        \n",
    "for i in range(5):\n",
    "    dqn_results_by_teammate[i] = np.concatenate(dqn_results_by_teammate[i], axis=1)\n",
    "\n",
    "dqn_total_results = np.concatenate(dqn_results_by_teammate,axis=1)"
   ]
  },
  {
   "cell_type": "code",
   "execution_count": 4,
   "id": "c894955d",
   "metadata": {},
   "outputs": [],
   "source": [
    "distillation_results_by_teammate = [[],[],[],[],[]]\n",
    "\n",
    "for r in range(1,11):\n",
    "    distillation_results = get_distillation_test_results(r)\n",
    "    for i in range(5):\n",
    "        distillation_results_by_teammate[i].append(distillation_results.loc[distillation_results['teammate_id'] == i].loc[:, 'reward_ep0':].values)\n",
    "        \n",
    "for i in range(5):\n",
    "    distillation_results_by_teammate[i] = np.concatenate(distillation_results_by_teammate[i], axis=1)\n",
    "\n",
    "distillation_total_results = np.concatenate(distillation_results_by_teammate,axis=1)"
   ]
  },
  {
   "cell_type": "markdown",
   "id": "13022eef",
   "metadata": {},
   "source": [
    "We then compute the basic statistics for these results:"
   ]
  },
  {
   "cell_type": "code",
   "execution_count": 5,
   "id": "f1ab8954",
   "metadata": {},
   "outputs": [
    {
     "name": "stdout",
     "output_type": "stream",
     "text": [
      "  Distilled Agent - average: 10.4576; std: 6.113313523777428\n",
      "  DQN - average: 10.7294; std: 5.928488478524691\n"
     ]
    }
   ],
   "source": [
    "print(f\"  Distilled Agent - average: {np.average(distillation_total_results)}; std: {np.std(distillation_total_results)}\")\n",
    "print(f\"  DQN - average: {np.average(dqn_total_results)}; std: {np.std(dqn_total_results)}\")"
   ]
  },
  {
   "cell_type": "markdown",
   "id": "6a3fc12f",
   "metadata": {},
   "source": [
    "Then we visualize the plots of the two distributions and observe that they may not be normal."
   ]
  },
  {
   "cell_type": "code",
   "execution_count": 6,
   "id": "f8dc69dd",
   "metadata": {},
   "outputs": [
    {
     "data": {
      "image/png": "[encoded data removed]",
      "text/plain": [
       "<Figure size 432x288 with 1 Axes>"
      ]
     },
     "metadata": {
      "needs_background": "light"
     },
     "output_type": "display_data"
    }
   ],
   "source": [
    "plot_histogram(\"Distilled Agent\", distillation_total_results.flatten())"
   ]
  },
  {
   "cell_type": "code",
   "execution_count": 7,
   "id": "eb222201",
   "metadata": {},
   "outputs": [
    {
     "data": {
      "image/png": "[encoded data removed]",
      "text/plain": [
       "<Figure size 432x288 with 1 Axes>"
      ]
     },
     "metadata": {
      "needs_background": "light"
     },
     "output_type": "display_data"
    }
   ],
   "source": [
    "plot_histogram(\"DQN Agent\", dqn_total_results.flatten())"
   ]
  },
  {
   "cell_type": "markdown",
   "id": "ea6fbffc",
   "metadata": {},
   "source": [
    "The Shapiro-Wilk test is thus performed to test whether each of these distributions is normal."
   ]
  },
  {
   "cell_type": "code",
   "execution_count": 8,
   "id": "bd1caadc",
   "metadata": {},
   "outputs": [
    {
     "data": {
      "text/plain": [
       "ShapiroResult(statistic=0.8698444962501526, pvalue=0.0)"
      ]
     },
     "execution_count": 8,
     "metadata": {},
     "output_type": "execute_result"
    }
   ],
   "source": [
    "shapiro(distillation_total_results)"
   ]
  },
  {
   "cell_type": "code",
   "execution_count": 9,
   "id": "b2b8508a",
   "metadata": {},
   "outputs": [
    {
     "data": {
      "text/plain": [
       "ShapiroResult(statistic=0.8701794147491455, pvalue=0.0)"
      ]
     },
     "execution_count": 9,
     "metadata": {},
     "output_type": "execute_result"
    }
   ],
   "source": [
    "shapiro(dqn_total_results)"
   ]
  },
  {
   "cell_type": "markdown",
   "id": "c092b108",
   "metadata": {},
   "source": [
    "With such a low p value it is safe to reject that these two distributions are normal. Thus we turn to the Mann-Whitney U test two compare these two distributions:\n",
    "\n",
    "H0: the distributions are identical\n",
    "H1: the distributions are not identical"
   ]
  },
  {
   "cell_type": "code",
   "execution_count": 10,
   "id": "adb00b04",
   "metadata": {},
   "outputs": [
    {
     "name": "stdout",
     "output_type": "stream",
     "text": [
      "0.017911937129520942\n"
     ]
    }
   ],
   "source": [
    "U, p = mannwhitneyu(distillation_total_results.flatten(), dqn_total_results.flatten())\n",
    "print(p)"
   ]
  },
  {
   "cell_type": "markdown",
   "id": "e37cf737",
   "metadata": {},
   "source": [
    "As can be seen, there seems to be a difference between the two distributions. We proceed to compare DQNs and the distilled networks. We proceed to compute the effect of that difference:"
   ]
  },
  {
   "cell_type": "code",
   "execution_count": 11,
   "id": "9d214b9b",
   "metadata": {},
   "outputs": [
    {
     "data": {
      "text/plain": [
       "0.023523399363770472"
      ]
     },
     "execution_count": 11,
     "metadata": {},
     "output_type": "execute_result"
    }
   ],
   "source": [
    "mann_whitney_effect(distillation_total_results.flatten(), dqn_total_results.flatten(), U)"
   ]
  },
  {
   "cell_type": "markdown",
   "id": "03f75e99",
   "metadata": {},
   "source": [
    "As can be seen, the effect size is very small (effect sizes smaller than 0.3 are considered small)."
   ]
  },
  {
   "cell_type": "code",
   "execution_count": 12,
   "id": "712709dc",
   "metadata": {},
   "outputs": [
    {
     "data": {
      "image/png": "[encoded data removed]",
      "text/plain": [
       "<Figure size 432x288 with 1 Axes>"
      ]
     },
     "metadata": {
      "needs_background": "light"
     },
     "output_type": "display_data"
    }
   ],
   "source": [
    "bar_plots_comparing_a_pair_of_means([np.average(distillation_total_results), np.average(dqn_total_results)], [np.std(distillation_total_results), np.std(dqn_total_results)], [\"Distilled Agent\", \"DQN\"], \"DQN vs Distilled Agent\", save_file=None)"
   ]
  },
  {
   "cell_type": "markdown",
   "id": "d302839b",
   "metadata": {},
   "source": [
    "# Results discriminated by teammates:"
   ]
  },
  {
   "cell_type": "markdown",
   "id": "151b6920",
   "metadata": {},
   "source": [
    "We will now look at different teammates individualy:"
   ]
  },
  {
   "cell_type": "code",
   "execution_count": 13,
   "id": "35df8358",
   "metadata": {},
   "outputs": [
    {
     "data": {
      "image/png": "[encoded data removed]",
      "text/plain": [
       "<Figure size 432x288 with 1 Axes>"
      ]
     },
     "metadata": {
      "needs_background": "light"
     },
     "output_type": "display_data"
    }
   ],
   "source": [
    "distillation_means_by_teammate = [np.average(tr) for tr in distillation_results_by_teammate]\n",
    "distillation_std_by_teammate = [np.std(tr) for tr in distillation_results_by_teammate]\n",
    "dqn_means_by_teammate = [np.average(tr) for tr in dqn_results_by_teammate]\n",
    "dqn_std_by_teammate = [np.std(tr) for tr in dqn_results_by_teammate]\n",
    "teammates_labels = [\"Fetcher\", \"JackOAT\", \"CookNServer\", \"CJack\", \"CCJack\"]\n",
    "\n",
    "bar_plots_comparing_multiple_pairs_of_means(distillation_means_by_teammate, distillation_std_by_teammate, \n",
    "                                            dqn_means_by_teammate, dqn_std_by_teammate,\n",
    "                                            \"Distillation\", \"DQN\", teammates_labels, \"Distillation vs DQN Agents by Teammate\",\n",
    "                                                save_file=None)"
   ]
  },
  {
   "cell_type": "code",
   "execution_count": 14,
   "id": "192f1dbf",
   "metadata": {},
   "outputs": [
    {
     "name": "stdout",
     "output_type": "stream",
     "text": [
      "TEAMMATE 0 (Fetcher)\n",
      "  Distilled Agent - average: 8.775; std: 7.034939587516015, Shapiro-Wilk test: 3.3218346221399376e-38\n",
      "  DQN - average: 8.894; std: 6.944405230111503, Shapiro-Wilk test: 8.932779968856181e-38\n",
      "  \n",
      "TEAMMATE 1 (JackOAT)\n",
      "  Distilled Agent - average: 15.489; std: 3.6731293198034836, Shapiro-Wilk test: 1.9990783762211408e-40\n",
      "  DQN - average: 15.892; std: 2.8789470297315303, Shapiro-Wilk test: 2.917223143031404e-41\n",
      "  \n",
      "TEAMMATE 2 (CookNServer)\n",
      "  Distilled Agent - average: 16.667; std: 2.3371159577564824, Shapiro-Wilk test: 0.0\n",
      "  DQN - average: 16.907; std: 1.2297768090186119, Shapiro-Wilk test: 4.504614043418557e-41\n",
      "  \n",
      "TEAMMATE 3 (CJack)\n",
      "  Distilled Agent - average: 5.749; std: 2.144294522681061, Shapiro-Wilk test: 1.028735241614778e-40\n",
      "  DQN - average: 6.333; std: 1.5550276524872475, Shapiro-Wilk test: 1.401298464324817e-45\n",
      "  \n",
      "TEAMMATE 4 (CCJack)\n",
      "  Distilled Agent - average: 5.608; std: 1.1951301184389924, Shapiro-Wilk test: 1.1307077308636949e-41\n",
      "  DQN - average: 5.621; std: 1.2974432550211974, Shapiro-Wilk test: 5.638825020443064e-42\n",
      "  \n"
     ]
    }
   ],
   "source": [
    "for t in range(5):\n",
    "    print(f\"TEAMMATE {t} ({teammates_labels[t]})\")\n",
    "    dist_t = distillation_results_by_teammate[t]\n",
    "    dqn_t = dqn_results_by_teammate[t]\n",
    "    print(f\"  Distilled Agent - average: {np.average(dist_t)}; std: {np.std(dist_t)}, Shapiro-Wilk test: {shapiro(dist_t)[1]}\")\n",
    "    print(f\"  DQN - average: {np.average(dqn_t)}; std: {np.std(dqn_t)}, Shapiro-Wilk test: {shapiro(dqn_t)[1]}\")\n",
    "    #print(f\"  p-value: {p_value_mean_difference(dist_t, dqn_t)}\")\n",
    "    #print(f\"  Cohen's d test: {cohens_d_effect_size(dist_t, dqn_t)}\")\n",
    "    print(f\"  \")"
   ]
  },
  {
   "cell_type": "markdown",
   "id": "f8daa94f",
   "metadata": {},
   "source": [
    "As can bee seen, neither of these distributions is considered normal by the Shapiro-Wilk test. Thus, we use the Mann-Whitney U test to compare each pair of distributions."
   ]
  },
  {
   "cell_type": "code",
   "execution_count": 15,
   "id": "3e222c02",
   "metadata": {},
   "outputs": [
    {
     "name": "stdout",
     "output_type": "stream",
     "text": [
      "TEAMMATE 0 (Fetcher)\n",
      "  Distilled Agent - average: 8.775; std: 7.034939587516015\n",
      "  DQN - average: 8.894; std: 6.944405230111503\n",
      "  Mann-Whitney U test: 0.10087038702709462\n",
      "TEAMMATE 1 (JackOAT)\n",
      "  Distilled Agent - average: 15.489; std: 3.6731293198034836\n",
      "  DQN - average: 15.892; std: 2.8789470297315303\n",
      "  Mann-Whitney U test: 0.9133481706720967\n",
      "TEAMMATE 2 (CookNServer)\n",
      "  Distilled Agent - average: 16.667; std: 2.3371159577564824\n",
      "  DQN - average: 16.907; std: 1.2297768090186119\n",
      "  Mann-Whitney U test: 0.5626863141939392\n",
      "TEAMMATE 3 (CJack)\n",
      "  Distilled Agent - average: 5.749; std: 2.144294522681061\n",
      "  DQN - average: 6.333; std: 1.5550276524872475\n",
      "  Mann-Whitney U test: 1.846216093948204e-08\n",
      "TEAMMATE 4 (CCJack)\n",
      "  Distilled Agent - average: 5.608; std: 1.1951301184389924\n",
      "  DQN - average: 5.621; std: 1.2974432550211974\n",
      "  Mann-Whitney U test: 0.18851107034431835\n"
     ]
    }
   ],
   "source": [
    "for t in range(5):\n",
    "    print(f\"TEAMMATE {t} ({teammates_labels[t]})\")\n",
    "    dist_t = distillation_results_by_teammate[t]\n",
    "    dqn_t = dqn_results_by_teammate[t]\n",
    "    print(f\"  Distilled Agent - average: {np.average(dist_t)}; std: {np.std(dist_t)}\")\n",
    "    print(f\"  DQN - average: {np.average(dqn_t)}; std: {np.std(dqn_t)}\")\n",
    "    print(f\"  Mann-Whitney U test: {mannwhitneyu(dist_t.flatten(), dqn_t.flatten())[1]}\")"
   ]
  },
  {
   "cell_type": "code",
   "execution_count": 16,
   "id": "75a2e599",
   "metadata": {},
   "outputs": [
    {
     "name": "stdout",
     "output_type": "stream",
     "text": [
      "TEAMMATE 0 (Fetcher)\n",
      " Mann-Whitney U test: 0.100870387\n",
      "TEAMMATE 1 (JackOAT)\n",
      " Mann-Whitney U test: 0.9133481707\n",
      "TEAMMATE 2 (CookNServer)\n",
      " Mann-Whitney U test: 0.5626863142\n",
      "TEAMMATE 3 (CJack)\n",
      " Mann-Whitney U test: 1.85e-08\n",
      "TEAMMATE 4 (CCJack)\n",
      " Mann-Whitney U test: 0.1885110703\n"
     ]
    }
   ],
   "source": [
    "for t in range(5):\n",
    "    print(f\"TEAMMATE {t} ({teammates_labels[t]})\")\n",
    "    dist_t = distillation_results_by_teammate[t]\n",
    "    dqn_t = dqn_results_by_teammate[t]\n",
    "    print(f\" Mann-Whitney U test: {round(mannwhitneyu(dist_t.flatten(), dqn_t.flatten())[1], 10)}\")"
   ]
  },
  {
   "cell_type": "markdown",
   "id": "7dc185c0",
   "metadata": {},
   "source": [
    "The only teammate in which there seems to be a difference between the distributions seems to be the ClockwiseJack. For all the remaining teammates, we cannot reject the hypothesis that the DQNs and the distilled agents perform similarly at a significance level smaller than 10%. It is worth looking at the effect of the difference between the DQN agent and the distilled agent when playing with the ClockiwiseJack."
   ]
  },
  {
   "cell_type": "code",
   "execution_count": 17,
   "id": "1152ae3f",
   "metadata": {},
   "outputs": [
    {
     "data": {
      "text/plain": [
       "0.11211014140164774"
      ]
     },
     "execution_count": 17,
     "metadata": {},
     "output_type": "execute_result"
    }
   ],
   "source": [
    "dist_3 = distillation_results_by_teammate[3]\n",
    "dqn_3 = dqn_results_by_teammate[3]\n",
    "mann_whitney_effect(dist_3.flatten(), dqn_3.flatten(), mannwhitneyu(dist_3.flatten(), dqn_3.flatten())[0])"
   ]
  },
  {
   "cell_type": "markdown",
   "id": "05d673f6",
   "metadata": {},
   "source": [
    "Thus, despite there being a difference between the DQN and the distilled agent for teammate 3, that difference is considered small."
   ]
  },
  {
   "cell_type": "code",
   "execution_count": 18,
   "id": "05019013",
   "metadata": {},
   "outputs": [
    {
     "data": {
      "image/png": "[encoded data removed]",
      "text/plain": [
       "<Figure size 1440x216 with 5 Axes>"
      ]
     },
     "metadata": {
      "needs_background": "light"
     },
     "output_type": "display_data"
    }
   ],
   "source": [
    "plot_histograms(distillation_results_by_teammate, teammates_labels)"
   ]
  },
  {
   "cell_type": "code",
   "execution_count": 19,
   "id": "64df7de5",
   "metadata": {},
   "outputs": [
    {
     "data": {
      "image/png": "[encoded data removed]",
      "text/plain": [
       "<Figure size 1440x216 with 5 Axes>"
      ]
     },
     "metadata": {
      "needs_background": "light"
     },
     "output_type": "display_data"
    }
   ],
   "source": [
    "plot_histograms(dqn_results_by_teammate, teammates_labels)"
   ]
  },
  {
   "cell_type": "code",
   "execution_count": null,
   "id": "a9999a43",
   "metadata": {},
   "outputs": [],
   "source": []
  }
 ],
 "metadata": {
  "kernelspec": {
   "display_name": "Python 3",
   "language": "python",
   "name": "python3"
  },
  "language_info": {
   "codemirror_mode": {
    "name": "ipython",
    "version": 3
   },
   "file_extension": ".py",
   "mimetype": "text/x-python",
   "name": "python",
   "nbconvert_exporter": "python",
   "pygments_lexer": "ipython3",
   "version": "3.8.2"
  }
 },
 "nbformat": 4,
 "nbformat_minor": 5
}
