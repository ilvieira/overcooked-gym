{
 "cells": [
  {
   "cell_type": "code",
   "execution_count": 2,
   "id": "cad68509",
   "metadata": {},
   "outputs": [
    {
     "name": "stdout",
     "output_type": "stream",
     "text": [
      "C:\\Users\\inesl\\Documents\\Thesis\\Code\\Overcooked\\overcooked-gym\n"
     ]
    }
   ],
   "source": [
    "%cd C:\\Users\\inesl\\Documents\\Thesis\\Code\\Overcooked\\overcooked-gym\n",
    "import pandas as df\n",
    "import numpy as np\n",
    "from get_stats import *\n",
    "from plots import *\n",
    "from scipy.stats import mannwhitneyu, shapiro"
   ]
  },
  {
   "cell_type": "code",
   "execution_count": 3,
   "id": "18889438",
   "metadata": {},
   "outputs": [],
   "source": [
    "#Effect Size r less than 0.3 -> small effect\n",
    "#Effect Size r between 0.3 and 0.5 -> medium effect\n",
    "#Effect Size r greater than 0.5 -> large effect\n",
    "\n",
    "from math import sqrt\n",
    "def mann_whitney_effect(x, y, U):\n",
    "    n1 = x.shape[-1]\n",
    "    n2 = y.shape[-1]\n",
    "    mu = n1*n2/2\n",
    "    std = sqrt(n1*n2*(n1+n2+1)/12)\n",
    "    z = (U-mu)/std\n",
    "    return abs(z/sqrt(n1+n2))"
   ]
  },
  {
   "cell_type": "markdown",
   "id": "6870da02",
   "metadata": {},
   "source": [
    "First, import the data:"
   ]
  },
  {
   "cell_type": "code",
   "execution_count": 4,
   "id": "a66afb94",
   "metadata": {},
   "outputs": [],
   "source": [
    "dpp = []\n",
    "pp = []\n",
    "sa = []\n",
    "for r in range(1,11):\n",
    "    dpp_r = get_distilled_pp_episode_rewards(r)\n",
    "    pp_r = get_pp_episode_rewards(r)\n",
    "    sa_r = get_sa_episode_rewards(r)\n",
    "    dpp.append(dpp_r)\n",
    "    pp.append(pp_r)\n",
    "    sa.append(sa_r)\n",
    "dpp = pd.concat(dpp, ignore_index=True)\n",
    "pp = pd.concat(pp, ignore_index=True)\n",
    "sa = pd.concat(sa, ignore_index=True)\n",
    "\n",
    "dpp_vals = dpp.iloc[:,-1].values\n",
    "pp_vals = pp.iloc[:,-1].values\n",
    "sa_vals = sa.iloc[:,-1].values"
   ]
  },
  {
   "cell_type": "markdown",
   "id": "766b7ec0",
   "metadata": {},
   "source": [
    "Then, compute some basic statistics:"
   ]
  },
  {
   "cell_type": "code",
   "execution_count": 5,
   "id": "58552eb4",
   "metadata": {},
   "outputs": [
    {
     "name": "stdout",
     "output_type": "stream",
     "text": [
      "DPP - average: 9.859; std: 6.109756050776496\n",
      "PP - average: 10.07; std: 5.95777643085069\n",
      "SA - average: 10.896; std: 5.972703240577084\n"
     ]
    }
   ],
   "source": [
    "print(f\"DPP - average: {np.average(dpp_vals)}; std: {np.std(dpp_vals)}\")\n",
    "print(f\"PP - average: {np.average(pp_vals)}; std: {np.std(pp_vals)}\")\n",
    "print(f\"SA - average: {np.average(sa_vals)}; std: {np.std(sa_vals)}\")"
   ]
  },
  {
   "cell_type": "code",
   "execution_count": 6,
   "id": "5457618c",
   "metadata": {},
   "outputs": [
    {
     "data": {
      "image/png": "[encoded data removed]",
      "text/plain": [
       "<Figure size 432x288 with 1 Axes>"
      ]
     },
     "metadata": {
      "needs_background": "light"
     },
     "output_type": "display_data"
    }
   ],
   "source": [
    "plot_histogram(\"DPP\", dpp_vals)"
   ]
  },
  {
   "cell_type": "code",
   "execution_count": 7,
   "id": "e82449b8",
   "metadata": {},
   "outputs": [
    {
     "data": {
      "text/plain": [
       "9.828776433711237e-28"
      ]
     },
     "execution_count": 7,
     "metadata": {},
     "output_type": "execute_result"
    }
   ],
   "source": [
    "shapiro(dpp_vals)[1] #p-value of the shapiro test (tests normality of a distribution)"
   ]
  },
  {
   "cell_type": "code",
   "execution_count": 8,
   "id": "9ecbe88b",
   "metadata": {},
   "outputs": [
    {
     "data": {
      "image/png": "[encoded data removed]",
      "text/plain": [
       "<Figure size 432x288 with 1 Axes>"
      ]
     },
     "metadata": {
      "needs_background": "light"
     },
     "output_type": "display_data"
    }
   ],
   "source": [
    "plot_histogram(\"PP\", pp_vals)"
   ]
  },
  {
   "cell_type": "code",
   "execution_count": 9,
   "id": "529f5a0b",
   "metadata": {},
   "outputs": [
    {
     "data": {
      "text/plain": [
       "9.99810323145679e-28"
      ]
     },
     "execution_count": 9,
     "metadata": {},
     "output_type": "execute_result"
    }
   ],
   "source": [
    "shapiro(pp_vals)[1] #p-value of the shapiro test (tests normality of a distribution)"
   ]
  },
  {
   "cell_type": "code",
   "execution_count": 10,
   "id": "e4bff55a",
   "metadata": {},
   "outputs": [
    {
     "data": {
      "image/png": "[encoded data removed]",
      "text/plain": [
       "<Figure size 432x288 with 1 Axes>"
      ]
     },
     "metadata": {
      "needs_background": "light"
     },
     "output_type": "display_data"
    }
   ],
   "source": [
    "plot_histogram(\"SA\", sa_vals)"
   ]
  },
  {
   "cell_type": "code",
   "execution_count": 11,
   "id": "6f6a5081",
   "metadata": {},
   "outputs": [
    {
     "data": {
      "text/plain": [
       "2.3917659348746e-28"
      ]
     },
     "execution_count": 11,
     "metadata": {},
     "output_type": "execute_result"
    }
   ],
   "source": [
    "shapiro(sa_vals)[1] #p-value of the shapiro test (tests normality of a distribution)"
   ]
  },
  {
   "cell_type": "markdown",
   "id": "d722c8ed",
   "metadata": {},
   "source": [
    "As can be seen, neither of this distributions shows normal behaviour. As such the Mann-Whitney test is used to compare them."
   ]
  },
  {
   "cell_type": "markdown",
   "id": "2b258264",
   "metadata": {},
   "source": [
    "# Hypothesis Testing"
   ]
  },
  {
   "cell_type": "markdown",
   "id": "613d810a",
   "metadata": {},
   "source": [
    "***H0:*** DPP and PP have identical distributions\n",
    "\n",
    "***H1:*** DPP and PP do not have identical distributions"
   ]
  },
  {
   "cell_type": "code",
   "execution_count": 28,
   "id": "83948ded",
   "metadata": {},
   "outputs": [
    {
     "name": "stdout",
     "output_type": "stream",
     "text": [
      "Mann-Whitney U test = MannwhitneyuResult(statistic=492405.5, pvalue=0.5537858887465374)\n"
     ]
    }
   ],
   "source": [
    "print(f\"Mann-Whitney U test = {mannwhitneyu(dpp_vals, pp_vals)}\")"
   ]
  },
  {
   "cell_type": "markdown",
   "id": "42f8b002",
   "metadata": {},
   "source": [
    "The fact that the p-value is this big strongly indicates that we cannot reject the hypothesis that the two means are the same. "
   ]
  },
  {
   "cell_type": "markdown",
   "id": "4be68d18",
   "metadata": {},
   "source": [
    "***H0:*** SA and PP have identical distributions\n",
    "\n",
    "***H1:*** SA and PP do not have identical distributions"
   ]
  },
  {
   "cell_type": "code",
   "execution_count": 29,
   "id": "040cc9dd",
   "metadata": {},
   "outputs": [
    {
     "name": "stdout",
     "output_type": "stream",
     "text": [
      "Mann-Whitney U test = 8.13334077705818e-05\n",
      "Mann-Whitney effect = 0.08753934839825463\n"
     ]
    }
   ],
   "source": [
    "U, pval = mannwhitneyu(pp_vals, sa_vals)\n",
    "print(f\"Mann-Whitney U test = {pval}\")\n",
    "print(f\"Mann-Whitney effect = {mann_whitney_effect(pp_vals, sa_vals, U)}\")"
   ]
  },
  {
   "cell_type": "markdown",
   "id": "05f56f3f",
   "metadata": {},
   "source": [
    "We can reject H0 at a significance level of $0.00008$, which seems to indicate that there is very likely a difference between using the PLASTIC algorithm and the specialized agents, which makes sense, since the PLASTIC agent does not have the knowledge of which teammate it is playing with so it will not be playing the most suited actions in the begining of the episode. However, the value of the effect test sugests that the magnitude of this difference is small, which indicates that the PLASTIC is able to achieve a good performance, comparable to the one of the specialized agents, even if it has to determine the teammates online."
   ]
  },
  {
   "cell_type": "markdown",
   "id": "b0229ad3",
   "metadata": {},
   "source": [
    "***H0:*** SA and DPP have identical distributions\n",
    "\n",
    "***H1:*** SA and DPP do not have identical distributions"
   ]
  },
  {
   "cell_type": "code",
   "execution_count": 30,
   "id": "0c344c85",
   "metadata": {},
   "outputs": [
    {
     "name": "stdout",
     "output_type": "stream",
     "text": [
      "Mann-Whitney U test = 8.835888055628064e-06\n",
      "Mann-Whitney effect = 0.09875763533383956\n"
     ]
    }
   ],
   "source": [
    "U, pval = mannwhitneyu(dpp_vals, sa_vals)\n",
    "print(f\"Mann-Whitney U test = {pval}\")\n",
    "print(f\"Mann-Whitney effect = {mann_whitney_effect(pp_vals, sa_vals, U)}\")"
   ]
  },
  {
   "cell_type": "markdown",
   "id": "2cc03c33",
   "metadata": {},
   "source": [
    "Again, the p-value of this test strongly suggests that there is in fact a difference between the performances Distilled PLASTIC-Policy and the specialized agents, but the value of the effect test indicates that this difference is not very accentuated, that is, the effect of using Distilled PLASTIC-Policy instead of a specialized agent is small."
   ]
  },
  {
   "cell_type": "code",
   "execution_count": 31,
   "id": "adab8192",
   "metadata": {},
   "outputs": [
    {
     "data": {
      "image/png": "[encoded data removed]",
      "text/plain": [
       "<Figure size 432x288 with 1 Axes>"
      ]
     },
     "metadata": {
      "needs_background": "light"
     },
     "output_type": "display_data"
    }
   ],
   "source": [
    "total_avgs = [np.average(dpp_vals), np.average(pp_vals), np.average(sa_vals)]\n",
    "total_errors = [np.std(dpp_vals), np.std(pp_vals), np.std(sa_vals)]\n",
    "bar_plots_comparing_a_pair_of_means(total_avgs, total_errors,[\"DPP\", \"PP\", \"DQN\"], \"Distilled PLASTIC-Policy vs PLASTIC-Policy vs Specialized Agents\", save_file=None)"
   ]
  },
  {
   "cell_type": "code",
   "execution_count": 32,
   "id": "4b0a6601",
   "metadata": {},
   "outputs": [
    {
     "name": "stdout",
     "output_type": "stream",
     "text": [
      "TEAMMATE 0\n",
      "  DPP - average: 7.874371859296482; std: 7.14876357039025, shapiro test: 7.880558796697947e-31\n",
      "  PP - average: 8.19718309859155; std: 6.941647566558381, shapiro test: 2.484155989770699e-31\n",
      "  SA - average: 9.163461538461538; std: 6.884501234550017, shapiro test: 1.4030311247685831e-30\n",
      "  scipy Mann Whitney(pp vs dpp): 0.6658688664831109\n",
      "TEAMMATE 1\n",
      "  DPP - average: 14.98974358974359; std: 3.7182705431006062, shapiro test: 5.263000796089152e-28\n",
      "  PP - average: 15.698863636363637; std: 2.3147744008562703, shapiro test: 2.1916187594888593e-26\n",
      "  SA - average: 15.83; std: 2.9616042949725743, shapiro test: 1.317180322376617e-28\n",
      "  scipy Mann Whitney(pp vs dpp): 0.21477897977323024\n",
      "TEAMMATE 2\n",
      "  DPP - average: 15.910994764397905; std: 3.6606631955680107, shapiro test: 2.88867271241352e-28\n",
      "  PP - average: 16.604166666666668; std: 0.901147031411757, shapiro test: 2.9228822837919414e-28\n",
      "  SA - average: 16.742990654205606; std: 2.222300405744146, shapiro test: 1.8969610616055714e-30\n",
      "  scipy Mann Whitney(pp vs dpp): 0.9408255103429866\n",
      "TEAMMATE 3\n",
      "  DPP - average: 5.7272727272727275; std: 2.2705252490296335, shapiro test: 6.492643212727265e-33\n",
      "  PP - average: 6.049180327868853; std: 1.9312746393274007, shapiro test: 1.0851444444248655e-31\n",
      "  SA - average: 6.252631578947368; std: 1.6541394395027764, shapiro test: 8.544255249862894e-32\n",
      "  scipy Mann Whitney(pp vs dpp): 0.5302938120143245\n",
      "TEAMMATE 4\n",
      "  DPP - average: 5.5; std: 1.4472940938782128, shapiro test: 5.9340088997886625e-34\n",
      "  PP - average: 5.364406779661017; std: 1.7763285991497817, shapiro test: 1.1780325978403167e-35\n",
      "  SA - average: 5.601063829787234; std: 1.2780466046218082, shapiro test: 4.6849192170171924e-32\n",
      "  scipy Mann Whitney(pp vs dpp): 0.6502029706665161\n"
     ]
    }
   ],
   "source": [
    "#DISTILLED PLASTIC-POLICY vs PLASTIC-POLICY for each teammate\n",
    "dpp_avgs_by_teammate = []\n",
    "pp_avgs_by_teammate = []\n",
    "sa_avgs_by_teammate = []\n",
    "dpp_stds_by_teammate = []\n",
    "pp_stds_by_teammate = []\n",
    "sa_stds_by_teammate = []\n",
    "\n",
    "for t in range(5):\n",
    "    dpp_t = dpp.loc[dpp['teammate_id'] == t]\n",
    "    pp_t = pp.loc[pp['teammate_id'] == t]\n",
    "    sa_t = sa.loc[sa['teammate_id'] == t]\n",
    "    dpp_avg_t = np.average(dpp_t.iloc[:,-1].values)\n",
    "    dpp_std_t = np.std(dpp_t.iloc[:,-1].values)    \n",
    "    pp_avg_t = np.average(pp_t.iloc[:,-1].values)\n",
    "    pp_std_t = np.std(pp_t.iloc[:,-1].values)\n",
    "    sa_avg_t = np.average(sa_t.iloc[:,-1].values)\n",
    "    sa_std_t = np.std(sa_t.iloc[:,-1].values)\n",
    "    \n",
    "    dpp_avgs_by_teammate.append(dpp_avg_t)\n",
    "    pp_avgs_by_teammate.append(pp_avg_t)\n",
    "    sa_avgs_by_teammate.append(sa_avg_t)\n",
    "    \n",
    "    dpp_stds_by_teammate.append(dpp_std_t)\n",
    "    pp_stds_by_teammate.append(pp_std_t)\n",
    "    sa_stds_by_teammate.append(sa_std_t)\n",
    "    \n",
    "    print(f\"TEAMMATE {t}\")\n",
    "    print(f\"  DPP - average: {dpp_avg_t}; std: {dpp_std_t}, shapiro test: {shapiro(dpp_t)[1]}\")\n",
    "    print(f\"  PP - average: {pp_avg_t}; std: {pp_std_t}, shapiro test: {shapiro(pp_t)[1]}\")\n",
    "    print(f\"  SA - average: {sa_avg_t}; std: {sa_std_t}, shapiro test: {shapiro(sa_t)[1]}\")\n",
    "    print(f\"  scipy Mann Whitney(pp vs dpp): {mannwhitneyu(dpp_t.iloc[:,-1].values, pp_t.iloc[:,-1].values)[1]}\")"
   ]
  },
  {
   "cell_type": "code",
   "execution_count": 33,
   "id": "bdf2787e",
   "metadata": {},
   "outputs": [
    {
     "data": {
      "image/png": "[encoded data removed]",
      "text/plain": [
       "<Figure size 432x288 with 1 Axes>"
      ]
     },
     "metadata": {
      "needs_background": "light"
     },
     "output_type": "display_data"
    }
   ],
   "source": [
    "compare_multiple_trios_of_means(dpp_avgs_by_teammate, dpp_stds_by_teammate, \"DPP\",\n",
    "                                pp_avgs_by_teammate, pp_stds_by_teammate, \"PP\",\n",
    "                                sa_avgs_by_teammate, sa_stds_by_teammate, \"SA\",\n",
    "                                [\"Fetcher\", \"JackOAT\",\"CookNServer\",\"CJack\",\"CCJack\"], \n",
    "                                \"DPP vs PP vs Specialized Agent\", save_file=None)"
   ]
  },
  {
   "cell_type": "code",
   "execution_count": 34,
   "id": "849d24a5",
   "metadata": {},
   "outputs": [],
   "source": [
    "def compare_multiple_trios_of_means(means_1, stds_1, name_1,\n",
    "                                    means_2, stds_2, name_2,\n",
    "                                    means_3, stds_3, name_3,\n",
    "                                    labels, title, save_file=None,\n",
    "                                    figsize=None):\n",
    "    means_1 = [round(val, 2) for val in means_1]\n",
    "    means_2 = [round(val, 2) for val in means_2]\n",
    "    means_3 = [round(val, 2) for val in means_3]\n",
    "    x = np.arange(len(labels))  # the label locations\n",
    "    width = 0.23  # the width of the bars\n",
    "\n",
    "    fig, ax = plt.subplots(figsize=figsize)\n",
    "    rects1 = ax.bar(x - width, means_1, width, yerr=stds_1, label=name_1, alpha=0.5, ecolor='black', capsize=2)\n",
    "    rects2 = ax.bar(x, means_2, width, yerr=stds_2, label=name_2, alpha=0.5, ecolor='black', capsize=2)\n",
    "    rects3 = ax.bar(x + width, means_3, width, yerr=stds_3, label=name_3, alpha=0.5, ecolor='black', capsize=2)\n",
    "\n",
    "    # Add some text for labels, title and custom x-axis tick labels, etc.\n",
    "    ax.set_ylabel('Soups Delivered')\n",
    "    ax.set_title(title)\n",
    "    ax.yaxis.grid(True, linestyle=':', linewidth=1)\n",
    "    ax.set_xticks(x, labels)\n",
    "    ax.legend()\n",
    "\n",
    "    ax.bar_label(rects1, padding=3)\n",
    "    ax.bar_label(rects2, padding=3)\n",
    "    ax.bar_label(rects3, padding=3)\n",
    "\n",
    "    fig.tight_layout()\n",
    "    \n",
    "    if save_file is not None:\n",
    "        plt.savefig(save_file)\n",
    "    plt.show()\n"
   ]
  },
  {
   "cell_type": "code",
   "execution_count": 35,
   "id": "1ccfdc77",
   "metadata": {},
   "outputs": [
    {
     "data": {
      "image/png": "[encoded data removed]",
      "text/plain": [
       "<Figure size 576x360 with 1 Axes>"
      ]
     },
     "metadata": {
      "needs_background": "light"
     },
     "output_type": "display_data"
    }
   ],
   "source": [
    "compare_multiple_trios_of_means(dpp_avgs_by_teammate, dpp_stds_by_teammate, \"DPP\",\n",
    "                                pp_avgs_by_teammate, pp_stds_by_teammate, \"PP\",\n",
    "                                sa_avgs_by_teammate, sa_stds_by_teammate, \"SA\",\n",
    "                                [\"Fetcher\", \"JackOAT\",\"CookNServer\",\"CJack\",\"CCJack\"], \n",
    "                                \"DPP vs PP vs Specialized Agent\", figsize=(8,5))"
   ]
  },
  {
   "cell_type": "code",
   "execution_count": 44,
   "id": "0e8bec1c",
   "metadata": {},
   "outputs": [
    {
     "name": "stdout",
     "output_type": "stream",
     "text": [
      "Teammate & p-value\n",
      "Fetcher & 0.005\\\\\n",
      "JackOAT & 0.0\\\\\n",
      "CookNServer & 0.0\\\\\n",
      "CJack & 0.166\\\\\n",
      "CCJack & 0.254\\\\\n"
     ]
    }
   ],
   "source": [
    "#DISTILLED PLASTIC-POLICY vs Specialized Agenst for each teammate\n",
    "dpp_avgs_by_teammate = []\n",
    "pp_avgs_by_teammate = []\n",
    "sa_avgs_by_teammate = []\n",
    "dpp_stds_by_teammate = []\n",
    "pp_stds_by_teammate = []\n",
    "sa_stds_by_teammate = []\n",
    "teammates_names = [\"Fetcher\", \"JackOAT\", \"CookNServer\", \"CJack\", \"CCJack\"]\n",
    "print(\"Teammate & p-value\")\n",
    "\n",
    "for t in range(5):\n",
    "    dpp_t = dpp.loc[dpp['teammate_id'] == t]\n",
    "    pp_t = pp.loc[pp['teammate_id'] == t]\n",
    "    sa_t = sa.loc[sa['teammate_id'] == t]\n",
    "    dpp_avg_t = np.average(dpp_t.iloc[:,-1].values)\n",
    "    dpp_std_t = np.std(dpp_t.iloc[:,-1].values)    \n",
    "    pp_avg_t = np.average(pp_t.iloc[:,-1].values)\n",
    "    pp_std_t = np.std(pp_t.iloc[:,-1].values)\n",
    "    sa_avg_t = np.average(sa_t.iloc[:,-1].values)\n",
    "    sa_std_t = np.std(sa_t.iloc[:,-1].values)\n",
    "    \n",
    "    dpp_avgs_by_teammate.append(dpp_avg_t)\n",
    "    pp_avgs_by_teammate.append(pp_avg_t)\n",
    "    sa_avgs_by_teammate.append(sa_avg_t)\n",
    "    \n",
    "    dpp_stds_by_teammate.append(dpp_std_t)\n",
    "    pp_stds_by_teammate.append(pp_std_t)\n",
    "    sa_stds_by_teammate.append(sa_std_t)\n",
    "    \n",
    "    p_val_dpp_vs_sa = mannwhitneyu(dpp_t.iloc[:,-1].values, sa_t.iloc[:,-1].values)[1]\n",
    "    print(f\"{teammates_names[t]} & {round(p_val_dpp_vs_sa,3)}\\\\\\\\\") \n"
   ]
  },
  {
   "cell_type": "code",
   "execution_count": 46,
   "id": "0f223f7a",
   "metadata": {},
   "outputs": [
    {
     "name": "stdout",
     "output_type": "stream",
     "text": [
      "Teammate & p-value\n",
      "Fetcher & 0.01 & 0.123\\\\\n",
      "JackOAT & 0.005 & 0.142\\\\\n",
      "CookNServer & 0.0 & 0.188\\\\\n",
      "CJack & 0.447 & 0.034\\\\\n",
      "CCJack & 0.492 & 0.03\\\\\n"
     ]
    }
   ],
   "source": [
    "#PLASTIC-POLICY vs Specialized agents for each teammate\n",
    "dpp_avgs_by_teammate = []\n",
    "pp_avgs_by_teammate = []\n",
    "sa_avgs_by_teammate = []\n",
    "dpp_stds_by_teammate = []\n",
    "pp_stds_by_teammate = []\n",
    "sa_stds_by_teammate = []\n",
    "teammates_names = [\"Fetcher\", \"JackOAT\", \"CookNServer\", \"CJack\", \"CCJack\"]\n",
    "print(\"Teammate & p-value\")\n",
    "\n",
    "for t in range(5):\n",
    "    dpp_t = dpp.loc[dpp['teammate_id'] == t]\n",
    "    pp_t = pp.loc[pp['teammate_id'] == t]\n",
    "    sa_t = sa.loc[sa['teammate_id'] == t]\n",
    "    dpp_avg_t = np.average(dpp_t.iloc[:,-1].values)\n",
    "    dpp_std_t = np.std(dpp_t.iloc[:,-1].values)    \n",
    "    pp_avg_t = np.average(pp_t.iloc[:,-1].values)\n",
    "    pp_std_t = np.std(pp_t.iloc[:,-1].values)\n",
    "    sa_avg_t = np.average(sa_t.iloc[:,-1].values)\n",
    "    sa_std_t = np.std(sa_t.iloc[:,-1].values)\n",
    "    \n",
    "    dpp_avgs_by_teammate.append(dpp_avg_t)\n",
    "    pp_avgs_by_teammate.append(pp_avg_t)\n",
    "    sa_avgs_by_teammate.append(sa_avg_t)\n",
    "    \n",
    "    dpp_stds_by_teammate.append(dpp_std_t)\n",
    "    pp_stds_by_teammate.append(pp_std_t)\n",
    "    sa_stds_by_teammate.append(sa_std_t)\n",
    "    \n",
    "    U, p_val_pp_vs_sa = mannwhitneyu(pp_t.iloc[:,-1].values, sa_t.iloc[:,-1].values)\n",
    "    effect = mann_whitney_effect(pp_t.iloc[:,-1].values, sa_t.iloc[:,-1].values, U)\n",
    "    \n",
    "    print(f\"{teammates_names[t]} & {round(p_val_pp_vs_sa, 3)} & {round(effect, 3)}\\\\\\\\\")"
   ]
  },
  {
   "cell_type": "code",
   "execution_count": 41,
   "id": "c18325c1",
   "metadata": {},
   "outputs": [
    {
     "name": "stdout",
     "output_type": "stream",
     "text": [
      "Teammate & p-value\n",
      "Fetcher & 0.666\\\\\n",
      "JackOAT & 0.215\\\\\n",
      "CookNServer & 0.941\\\\\n",
      "CJack & 0.53\\\\\n",
      "CCJack & 0.65\\\\\n"
     ]
    }
   ],
   "source": [
    "#DISTILLED PLASTIC-POLICY vs PLASTIC-POLICY\n",
    "dpp_avgs_by_teammate = []\n",
    "pp_avgs_by_teammate = []\n",
    "sa_avgs_by_teammate = []\n",
    "dpp_stds_by_teammate = []\n",
    "pp_stds_by_teammate = []\n",
    "sa_stds_by_teammate = []\n",
    "teammates_names = [\"Fetcher\", \"JackOAT\", \"CookNServer\", \"CJack\", \"CCJack\"]\n",
    "print(\"Teammate & p-value\")\n",
    "\n",
    "for t in range(5):\n",
    "    dpp_t = dpp.loc[dpp['teammate_id'] == t]\n",
    "    pp_t = pp.loc[pp['teammate_id'] == t]\n",
    "    sa_t = sa.loc[sa['teammate_id'] == t]\n",
    "    dpp_avg_t = np.average(dpp_t.iloc[:,-1].values)\n",
    "    dpp_std_t = np.std(dpp_t.iloc[:,-1].values)    \n",
    "    pp_avg_t = np.average(pp_t.iloc[:,-1].values)\n",
    "    pp_std_t = np.std(pp_t.iloc[:,-1].values)\n",
    "    sa_avg_t = np.average(sa_t.iloc[:,-1].values)\n",
    "    sa_std_t = np.std(sa_t.iloc[:,-1].values)\n",
    "    \n",
    "    dpp_avgs_by_teammate.append(dpp_avg_t)\n",
    "    pp_avgs_by_teammate.append(pp_avg_t)\n",
    "    sa_avgs_by_teammate.append(sa_avg_t)\n",
    "    \n",
    "    dpp_stds_by_teammate.append(dpp_std_t)\n",
    "    pp_stds_by_teammate.append(pp_std_t)\n",
    "    sa_stds_by_teammate.append(sa_std_t)\n",
    "    \n",
    "    p_val_dpp_vs_pp = mannwhitneyu(dpp_t.iloc[:,-1].values, pp_t.iloc[:,-1].values)[1]\n",
    "    mann_whitney_effect(x, y, U)\n",
    "    print(f\"{teammates_names[t]} & {round(p_val_dpp_vs_pp, 3)}\\\\\\\\\") \n"
   ]
  }
 ],
 "metadata": {
  "kernelspec": {
   "display_name": "Python 3",
   "language": "python",
   "name": "python3"
  },
  "language_info": {
   "codemirror_mode": {
    "name": "ipython",
    "version": 3
   },
   "file_extension": ".py",
   "mimetype": "text/x-python",
   "name": "python",
   "nbconvert_exporter": "python",
   "pygments_lexer": "ipython3",
   "version": "3.8.2"
  }
 },
 "nbformat": 4,
 "nbformat_minor": 5
}
